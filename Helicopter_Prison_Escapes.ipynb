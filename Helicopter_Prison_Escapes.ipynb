{
 "cells": [
  {
   "cell_type": "markdown",
   "metadata": {},
   "source": [
    "# Learning to Analyze Data :)"
   ]
  },
  {
   "cell_type": "markdown",
   "metadata": {},
   "source": [
    "## Prison Helicopter Escapes"
   ]
  },
  {
   "cell_type": "markdown",
   "metadata": {},
   "source": [
    "This program lets the user know which year(s) had the most and least helicopter prison break attempts, and the number of occurences in each country."
   ]
  },
  {
   "cell_type": "markdown",
   "metadata": {},
   "source": [
    "Began by importing helper functions"
   ]
  },
  {
   "cell_type": "code",
   "execution_count": null,
   "metadata": {},
   "outputs": [],
   "source": [
    "from helper import *"
   ]
  },
  {
   "cell_type": "markdown",
   "metadata": {},
   "source": [
    "## Get the Data\n",
    "get the data from [List of helicopter prison escapes](https://en.wikipedia.org/wiki/List_of_helicopter_prison_escapes) Wikipedia article."
   ]
  },
  {
   "cell_type": "code",
   "execution_count": null,
   "metadata": {},
   "outputs": [],
   "source": [
    "url = str(\"https://en.wikipedia.org/wiki/List_of_helicopter_prison_escapes\")\n",
    "data = data_from_url(url)"
   ]
  },
  {
   "cell_type": "markdown",
   "metadata": {},
   "source": [
    "printing the first three rows"
   ]
  },
  {
   "cell_type": "code",
   "execution_count": null,
   "metadata": {},
   "outputs": [],
   "source": [
    "for rows in data[:3]:\n",
    "    print(rows)"
   ]
  },
  {
   "cell_type": "code",
   "execution_count": null,
   "metadata": {},
   "outputs": [],
   "source": [
    "ListOfYears = []\n",
    "for row in data:\n",
    "    noDetailsRow = row[:-1]\n",
    "    date =noDetailsRow[0]\n",
    "    year = fetch_year(date)\n",
    "    year= str(year)\n",
    "    ListOfYears.append(year) "
   ]
  },
  {
   "cell_type": "code",
   "execution_count": null,
   "metadata": {},
   "outputs": [],
   "source": [
    "attemptsPerYear={}\n",
    "attemptsPerYear[year]=0\n",
    "for year in ListOfYears:\n",
    "    if year in attemptsPerYear:\n",
    "        attemptsPerYear[year]+=1\n",
    "    else:\n",
    "        attemptsPerYear[year]=1\n",
    "print(attemptsPerYear)"
   ]
  },
  {
   "cell_type": "code",
   "execution_count": null,
   "metadata": {},
   "outputs": [],
   "source": [
    "yearsMostAttempts=[]\n",
    "yearsLeastAttempts=[]\n",
    "\n",
    "for year in attemptsPerYear:\n",
    "# Find the key-value pair with the highest, lowest attempts and append\n",
    "# the corresponding years to the two lists above.\n",
    "    highest_count = max(attemptsPerYear.values())\n",
    "    lowest_count = min(attemptsPerYear.values())\n",
    "    if attemptsPerYear[year]== highest_count:\n",
    "        yearsMostAttempts.append(year)\n",
    "    elif attemptsPerYear[year]==lowest_count:\n",
    "        yearsLeastAttempts.append(year)\n",
    "    else:\n",
    "        pass \n",
    "    \n",
    "delimiter = ', '\n",
    "strMostAttempts= delimiter.join(yearsMostAttempts)\n",
    "strLeastAttempts= delimiter.join(yearsLeastAttempts)\n",
    "\n",
    "\n",
    "print(f\"The highest number of helcopter prison break attempts in a year is {highest_count} time(s), in {strMostAttempts}.\")\n",
    "print(f\"The lowest number of helcopter prison break attempts in a year is {lowest_count}time(s), in {strLeastAttempts}.\")\n"
   ]
  },
  {
   "cell_type": "markdown",
   "metadata": {},
   "source": [
    "Below is a chart showing the different countries where the helicopter escape attempts occur, and its number of occurences."
   ]
  },
  {
   "cell_type": "code",
   "execution_count": null,
   "metadata": {},
   "outputs": [],
   "source": [
    "countries_frequency = df[\"Country\"].value_counts()\n",
    "print_pretty_table(countries_frequency)"
   ]
  },
  {
   "cell_type": "code",
   "execution_count": null,
   "metadata": {},
   "outputs": [],
   "source": []
  }
 ],
 "metadata": {
  "kernelspec": {
   "display_name": "Python 3",
   "language": "python",
   "name": "python3"
  },
  "language_info": {
   "codemirror_mode": {
    "name": "ipython",
    "version": 3
   },
   "file_extension": ".py",
   "mimetype": "text/x-python",
   "name": "python",
   "nbconvert_exporter": "python",
   "pygments_lexer": "ipython3",
   "version": "3.8.2"
  }
 },
 "nbformat": 4,
 "nbformat_minor": 2
}
